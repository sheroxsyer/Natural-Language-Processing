{
  "nbformat": 4,
  "nbformat_minor": 0,
  "metadata": {
    "colab": {
      "provenance": []
    },
    "kernelspec": {
      "name": "python3",
      "display_name": "Python 3"
    },
    "language_info": {
      "name": "python"
    }
  },
  "cells": [
    {
      "cell_type": "markdown",
      "metadata": {
        "id": "czLFsxeqJTdM"
      },
      "source": [
        "## Edit Distance"
      ]
    },
    {
      "cell_type": "code",
      "metadata": {
        "id": "d4XguZFDJEaj",
        "colab": {
          "base_uri": "https://localhost:8080/"
        },
        "outputId": "41b33e0c-ccd1-4bdd-f4b5-f4a7bf29ebcc"
      },
      "source": [
        "import nltk\n",
        "w1 = 'پاکستانی'\n",
        "w2 = 'باکستان'\n",
        "nltk.edit_distance(w1,w2)"
      ],
      "execution_count": null,
      "outputs": [
        {
          "output_type": "execute_result",
          "data": {
            "text/plain": [
              "2"
            ]
          },
          "metadata": {
            "tags": []
          },
          "execution_count": 1
        }
      ]
    },
    {
      "cell_type": "code",
      "metadata": {
        "id": "G_HStpxjJLzU",
        "colab": {
          "base_uri": "https://localhost:8080/"
        },
        "outputId": "e1c3b65f-119a-4e08-ef28-e3f5e6291131"
      },
      "source": [
        "nltk.edit_distance(w1,w2,substitution_cost=2)"
      ],
      "execution_count": null,
      "outputs": [
        {
          "output_type": "execute_result",
          "data": {
            "text/plain": [
              "3"
            ]
          },
          "metadata": {
            "tags": []
          },
          "execution_count": 2
        }
      ]
    },
    {
      "cell_type": "code",
      "metadata": {
        "id": "L0UhRtuWJStG",
        "colab": {
          "base_uri": "https://localhost:8080/"
        },
        "outputId": "87a59506-d040-41f9-ff9b-108947243b7a"
      },
      "source": [
        "s1 = 'ٹھنڈی چیزیں کھانے یا پینے سے دانتوں میں درد کیوں ہوتا ہے؟'\n",
        "s2 = 'بعض لوگوں شدید ٹھنڈی چیزیں اس لیے بھی نہیں کھاتے اور پیتے کہ انہیں دانتوں میں تکلیف ہوتی ہے۔'\n",
        "nltk.edit_distance(s2,s1)"
      ],
      "execution_count": null,
      "outputs": [
        {
          "output_type": "execute_result",
          "data": {
            "text/plain": [
              "53"
            ]
          },
          "metadata": {
            "tags": []
          },
          "execution_count": 3
        }
      ]
    },
    {
      "cell_type": "code",
      "metadata": {
        "id": "Bz-MuXseJdQV",
        "colab": {
          "base_uri": "https://localhost:8080/"
        },
        "outputId": "688e3fbd-af41-4534-e4cb-947b230ec982"
      },
      "source": [
        "mistake = \"ٹوئنٹ\"\n",
        " \n",
        "words = ['ویب', 'ٹوئٹر', 'کوائن', 'ٹوئٹ', 'مائکرو بلاگنگ','آنلائن', 'کریپٹو', 'کرنسی', 'رقم', ' روپے', 'ڈالر', 'ٹرینڈز']\n",
        "listed = list()\n",
        "\n",
        "for word in words:\n",
        "    ed = nltk.edit_distance(mistake, word)\n",
        "    listed.append(tuple([word, ed]))\n",
        "listed.sort(key=lambda x:x[1])\n",
        "\n",
        "for w, d in listed:\n",
        "    print(w, \":\", d)"
      ],
      "execution_count": null,
      "outputs": [
        {
          "output_type": "stream",
          "text": [
            "ٹوئٹ : 1\n",
            "ٹوئٹر : 2\n",
            "کوائن : 3\n",
            "ویب : 4\n",
            "ٹرینڈز : 4\n",
            "کریپٹو : 5\n",
            "کرنسی : 5\n",
            "رقم : 5\n",
            " روپے : 5\n",
            "ڈالر : 5\n",
            "آنلائن : 6\n",
            "مائکرو بلاگنگ : 11\n"
          ],
          "name": "stdout"
        }
      ]
    },
    {
      "cell_type": "code",
      "metadata": {
        "id": "3ox44HEyPFWL",
        "colab": {
          "base_uri": "https://localhost:8080/"
        },
        "outputId": "49d7eb9a-a3ac-4c37-98dc-fd93b5914836"
      },
      "source": [
        "nltk.jaccard_distance(set('ٹوئٹ'), set('ٹوئٹر'))"
      ],
      "execution_count": null,
      "outputs": [
        {
          "output_type": "execute_result",
          "data": {
            "text/plain": [
              "0.25"
            ]
          },
          "metadata": {
            "tags": []
          },
          "execution_count": 5
        }
      ]
    },
    {
      "cell_type": "code",
      "metadata": {
        "id": "VIZ3ErhcPhpW",
        "colab": {
          "base_uri": "https://localhost:8080/"
        },
        "outputId": "0729052d-6e08-442d-f698-f047afa2deea"
      },
      "source": [
        "sent1 = set(\"تعلیمی اداروں سے متعلق شفقت محمود کا اہم اعلان\")\n",
        "sent2 = set(\"تعلیمی اداروں کے حوالے سے اہم فیصلوں کا اعلان\")\n",
        "sent3 = set(\"کیا غلطی میں شمار کیا جانا چاہیے؟\")\n",
        "nltk.jaccard_distance(sent2, sent3)"
      ],
      "execution_count": null,
      "outputs": [
        {
          "output_type": "execute_result",
          "data": {
            "text/plain": [
              "0.56"
            ]
          },
          "metadata": {
            "tags": []
          },
          "execution_count": 8
        }
      ]
    },
    {
      "cell_type": "markdown",
      "metadata": {
        "id": "FOoXq--POObz"
      },
      "source": [
        "##SpaCy and Language Modeling"
      ]
    },
    {
      "cell_type": "code",
      "metadata": {
        "id": "Ie62ad4nEjjs"
      },
      "source": [
        "import spacy\n",
        "unlp = spacy.blank('ur')"
      ],
      "execution_count": null,
      "outputs": []
    },
    {
      "cell_type": "code",
      "metadata": {
        "id": "98O4W-9CFC6l",
        "colab": {
          "base_uri": "https://localhost:8080/"
        },
        "outputId": "78e64fb5-33a8-49c2-e689-396655b242f4"
      },
      "source": [
        "utext = unlp('اس طرح خبر کی اشاعت اور الفاظ کا استعمال کیا غلطی میں شمار کیا جانا چاہیے؟')\n",
        "for w in utext:\n",
        "  print(w)"
      ],
      "execution_count": null,
      "outputs": [
        {
          "output_type": "stream",
          "text": [
            "اس\n",
            "طرح\n",
            "خبر\n",
            "کی\n",
            "اشاعت\n",
            "اور\n",
            "الفاظ\n",
            "کا\n",
            "استعمال\n",
            "کیا\n",
            "غلطی\n",
            "میں\n",
            "شمار\n",
            "کیا\n",
            "جانا\n",
            "چاہیے\n",
            "؟\n"
          ],
          "name": "stdout"
        }
      ]
    },
    {
      "cell_type": "code",
      "metadata": {
        "id": "c47umOWyOdxy",
        "colab": {
          "base_uri": "https://localhost:8080/"
        },
        "outputId": "810c54b5-deca-417d-eb62-606a1a3c86fc"
      },
      "source": [
        "ws1 = unlp('تعلیمی اداروں سے متعلق شفقت محمود کا اہم اعلان')\n",
        "ws2 = unlp('تعلیمی اداروں کے حوالے سے اہم فیصلوں کا اعلان')\n",
        "nltk.edit_distance(ws1, ws2)"
      ],
      "execution_count": null,
      "outputs": [
        {
          "output_type": "execute_result",
          "data": {
            "text/plain": [
              "9"
            ]
          },
          "metadata": {
            "tags": []
          },
          "execution_count": 11
        }
      ]
    },
    {
      "cell_type": "code",
      "metadata": {
        "id": "fGxdLD1tFUzb",
        "colab": {
          "base_uri": "https://localhost:8080/"
        },
        "outputId": "02f8f358-81e3-4a12-86d6-112e3a4c9b89"
      },
      "source": [
        "for word2 in ws2:\n",
        "    for word1 in ws1:\n",
        "        ed = nltk.edit_distance(word1.text, word2.text)\n",
        "        print(ed, end=' ')\n",
        "    print()"
      ],
      "execution_count": null,
      "outputs": [
        {
          "output_type": "stream",
          "text": [
            "0 6 6 4 6 6 6 5 4 \n",
            "6 0 6 6 6 5 5 5 5 \n",
            "6 6 1 5 4 5 1 3 5 \n",
            "6 5 4 4 5 5 4 4 5 \n",
            "6 6 0 5 4 5 2 3 5 \n",
            "5 5 3 5 4 4 3 0 4 \n",
            "6 4 6 5 6 5 6 6 5 \n",
            "6 5 2 5 4 5 0 3 4 \n",
            "4 5 5 4 5 5 4 4 0 \n"
          ],
          "name": "stdout"
        }
      ]
    },
    {
      "cell_type": "code",
      "metadata": {
        "id": "T8BHTktMTGqT",
        "colab": {
          "base_uri": "https://localhost:8080/"
        },
        "outputId": "fca93064-a474-4e66-ca9f-a2603512adaa"
      },
      "source": [
        "sentence = unlp('ایران نے اسرائیل جاسوس سمیت متعدد افراد کو گرفتار کر لیا ایران اسرائیل کو تسلیم نہیں کرتا')\n",
        "bigrams = list()\n",
        "for i in range(len(sentence)-1):\n",
        "  w1 = sentence[i]\n",
        "  w2 = sentence[i+1]\n",
        "  bigrams.append(tuple((w1, w2)))\n",
        "\n",
        "for x in bigrams:   \n",
        "  print(x[0], x[1])"
      ],
      "execution_count": null,
      "outputs": [
        {
          "output_type": "stream",
          "text": [
            "ایران نے\n",
            "نے اسرائیل\n",
            "اسرائیل جاسوس\n",
            "جاسوس سمیت\n",
            "سمیت متعدد\n",
            "متعدد افراد\n",
            "افراد کو\n",
            "کو گرفتار\n",
            "گرفتار کر\n",
            "کر لیا\n",
            "لیا ایران\n",
            "ایران اسرائیل\n",
            "اسرائیل کو\n",
            "کو تسلیم\n",
            "تسلیم نہیں\n",
            "نہیں کرتا\n"
          ],
          "name": "stdout"
        }
      ]
    },
    {
      "cell_type": "code",
      "metadata": {
        "id": "AxHulXd5XFqc",
        "colab": {
          "base_uri": "https://localhost:8080/"
        },
        "outputId": "bde34b7b-d34f-45df-814d-c27214536a47"
      },
      "source": [
        "trigrams = list()\n",
        "for i in range(len(sentence)-2):\n",
        "  w1 = sentence[i]\n",
        "  w2 = sentence[i+1]\n",
        "  w3 = sentence[i+2]\n",
        "  trigrams.append(tuple((w1, w2, w3)))\n",
        "\n",
        "for x in trigrams:   \n",
        "  print(x[0], x[1], x[2])"
      ],
      "execution_count": null,
      "outputs": [
        {
          "output_type": "stream",
          "text": [
            "ایران نے اسرائیل\n",
            "نے اسرائیل جاسوس\n",
            "اسرائیل جاسوس سمیت\n",
            "جاسوس سمیت متعدد\n",
            "سمیت متعدد افراد\n",
            "متعدد افراد کو\n",
            "افراد کو گرفتار\n",
            "کو گرفتار کر\n",
            "گرفتار کر لیا\n",
            "کر لیا ایران\n",
            "لیا ایران اسرائیل\n",
            "ایران اسرائیل کو\n",
            "اسرائیل کو تسلیم\n",
            "کو تسلیم نہیں\n",
            "تسلیم نہیں کرتا\n"
          ],
          "name": "stdout"
        }
      ]
    },
    {
      "cell_type": "code",
      "metadata": {
        "id": "zT3rFViUeHjE",
        "colab": {
          "base_uri": "https://localhost:8080/"
        },
        "outputId": "fba2bd03-c8a9-4669-adc5-364180313f95"
      },
      "source": [
        "from nltk.probability import ConditionalFreqDist\n",
        "cdist = ConditionalFreqDist()\n",
        "\n",
        "for w in bigrams:\n",
        "  condition = len(w)\n",
        "  cdist[condition][w] += 1 \n",
        "\n",
        "cdist.conditions()\n",
        "cdist[2]"
      ],
      "execution_count": null,
      "outputs": [
        {
          "output_type": "execute_result",
          "data": {
            "text/plain": [
              "FreqDist({(ایران, نے): 1,\n",
              "          (نے, اسرائیل): 1,\n",
              "          (اسرائیل, جاسوس): 1,\n",
              "          (جاسوس, سمیت): 1,\n",
              "          (سمیت, متعدد): 1,\n",
              "          (متعدد, افراد): 1,\n",
              "          (افراد, کو): 1,\n",
              "          (کو, گرفتار): 1,\n",
              "          (گرفتار, کر): 1,\n",
              "          (کر, لیا): 1,\n",
              "          (لیا, ایران): 1,\n",
              "          (ایران, اسرائیل): 1,\n",
              "          (اسرائیل, کو): 1,\n",
              "          (کو, تسلیم): 1,\n",
              "          (تسلیم, نہیں): 1,\n",
              "          (نہیں, کرتا): 1})"
            ]
          },
          "metadata": {
            "tags": []
          },
          "execution_count": 15
        }
      ]
    },
    {
      "cell_type": "code",
      "metadata": {
        "id": "-Teo3-38-jXZ"
      },
      "source": [],
      "execution_count": null,
      "outputs": []
    }
  ]
}