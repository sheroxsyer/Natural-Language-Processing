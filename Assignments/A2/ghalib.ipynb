{
  "nbformat": 4,
  "nbformat_minor": 0,
  "metadata": {
    "colab": {
      "provenance": []
    },
    "kernelspec": {
      "name": "python3",
      "display_name": "Python 3"
    },
    "language_info": {
      "name": "python"
    }
  },
  "cells": [
    {
      "cell_type": "code",
      "execution_count": 1,
      "metadata": {
        "colab": {
          "base_uri": "https://localhost:8080/"
        },
        "id": "0BeW8DVLLONf",
        "outputId": "e82cce83-9484-493a-f2ec-1dca1f40496e"
      },
      "outputs": [
        {
          "output_type": "stream",
          "name": "stdout",
          "text": [
            "Mounted at /content/drive\n"
          ]
        }
      ],
      "source": [
        "import csv\n",
        "from google.colab import drive\n",
        "drive.mount('/content/drive')"
      ]
    },
    {
      "cell_type": "code",
      "source": [
        "with open('/content/drive/My Drive/NLP/ghalib.txt', 'r') as f:\n",
        "    reader = csv.reader(f)\n",
        "    poetry = list(reader)\n",
        "f.close()\n",
        "text = poetry[0]\n",
        "print(text)"
      ],
      "metadata": {
        "colab": {
          "base_uri": "https://localhost:8080/"
        },
        "id": "HoARBiTjLdJL",
        "outputId": "49be6e3b-e741-40e9-a1bb-777eadc2dbdb"
      },
      "execution_count": 2,
      "outputs": [
        {
          "output_type": "stream",
          "name": "stdout",
          "text": [
            "['بازیچۂ اطفال ہے دنیا مرے آگے']\n"
          ]
        }
      ]
    },
    {
      "cell_type": "code",
      "source": [
        "f1 = \"/content/drive/My Drive/NLP/ghalib.txt\"\n",
        "roman = ['A','B','C','D','E','F','G','H','I','J','K','L','M','N','O','P','Q','R','S','T','U','V','W','X','Y','Z']\n",
        "#array containing special characters\n",
        "special = ['‘','٪٪٪٪٪٪٪٪٪٪٪٪٪٪٪٪٪٪٪٪٪٪٪٪٪٪٪٪','%%%%%%%%%%%%%%%%%%%%', '!', '`', '\"', ')', '(',\"''\", '.', ':','’’', \"'\", '\"', '؟','‘','’','‘','،','“','’']\n",
        "starting_words = []         #array to store the starting words\n",
        "fileref = open (f1,\"r\")\n",
        "line = fileref.readlines()\n",
        "fileref.close()\n",
        "\n",
        "#loop to tokenise sentences in words and store in start_words array\n",
        "for words in line:\n",
        "  word = words.split()\n",
        "  if len(word) != 0 and word[0] not in special and word[0][0] not in roman: #check for special characters and english letters. if found than they are not added to list\n",
        "    starting_words.append(word[0])\n",
        "#print(starting_words)"
      ],
      "metadata": {
        "id": "_s-lcYc6Lk3m"
      },
      "execution_count": 3,
      "outputs": []
    },
    {
      "cell_type": "code",
      "source": [
        "w_list = []\n",
        "special = ['‘','‘‘','٪','٪٪٪٪٪٪٪٪٪٪٪٪٪٪٪٪٪٪٪٪٪٪٪٪٪٪٪٪','%%%%%%%%%%%%%%%%%%%%', '!', '%', '`', '\"', ')', '(',\"''\", '.', ':','’’', \"'\", '\"', '؟','‘','’','‘','،','“','’']\n",
        "#nested loop to tokenise the whole corpus into words and stored in a word list\n",
        "for i in range(len(poetry)-1):\n",
        "  text = poetry[i]\n",
        "  for word in text:\n",
        "    s = word.split()\n",
        "    for w in s:\n",
        "      if w not in special:  #check so no special characters are added\n",
        "        w_list.append(w)\n",
        "#print(w_list)"
      ],
      "metadata": {
        "id": "Rx3d6vt9Lr7j"
      },
      "execution_count": 4,
      "outputs": []
    },
    {
      "cell_type": "code",
      "source": [
        "def prob(w_list, s):\n",
        "  p = 0\n",
        "  p1 = 0\n",
        "  count = 0\n",
        "  w1_count = 0    #to store total occurances of the starting word\n",
        "  visited = []\n",
        "  max_prob = []   #to store probabilities of all possible combinations\n",
        "  word = ''\n",
        "  w1 = s\n",
        "\n",
        "  for i in range(len(w_list)-1):  #counting total occurances of starting word in the corpus\n",
        "    if w1 == w_list[i]:\n",
        "      w1_count += 1\n",
        "  for i in range(len(w_list)-1):\n",
        "    w = w_list[i]\n",
        "    if w == w1:                 #if starting word found than get next word\n",
        "      w2 = w_list[i+1]\n",
        "      if w2 not in visited:     #check in case the secound word comes again\n",
        "        visited.append(w2)      #Ifthe secound word has not been read before add it to the visited array\n",
        "        for j in range(len(w_list)-1):\n",
        "          if w1 == w_list[j] and w2 == w_list[j+1]:\n",
        "            p += 1              #counting # of times the second word comes after the first word in the corpus\n",
        "        if p > p1:              #storing the word with the highest count\n",
        "          word = w2\n",
        "          p1 = p\n",
        "        count = p/w1_count      #calculating the probability using count of w1 after w2/total count of w2\n",
        "        max_prob.append(count)  #adding in the array that stores probabilities of all second words that come after first word\n",
        "        p = 0\n",
        "  return word"
      ],
      "metadata": {
        "id": "pOXWHUN1Lw0R"
      },
      "execution_count": 5,
      "outputs": []
    },
    {
      "cell_type": "code",
      "source": [
        "import random\n",
        "start = random.choice(starting_words)   #generating random starting word\n",
        "next_word = ''\n",
        "verse = ''\n",
        "verse = verse + start               #adding starting word to the verse\n",
        "next_word = prob(w_list, start)     #getting the second most probable word\n",
        "counter = 2\n",
        "verse = verse + ' ' + next_word\n",
        "verse_count = random.randint(5,8)  #generating random numer between 5-8 for number of words of a verse as first 2 words have already been generated\n",
        "for s in range(3):\n",
        "  for v in range(4):\n",
        "    for i in range (verse_count):\n",
        "      res = prob(w_list, next_word) #getting the next most probable word\n",
        "      verse = verse + ' ' + res     #adding it to the verse\n",
        "      next_word = res\n",
        "      counter += 1\n",
        "      if counter == verse_count:    #to check end of verse\n",
        "        #print(verse_count)\n",
        "        print(verse)                #printing verse and resetting the counter\n",
        "        verse = ''\n",
        "        next_word = random.choice(starting_words) #generating starting word for the next verse\n",
        "        verse = verse + next_word\n",
        "        verse_count = random.randint(7,9)          #generating random number for the # of words in a verse\n",
        "        counter = 1\n",
        "        break\n",
        "  print()"
      ],
      "metadata": {
        "colab": {
          "base_uri": "https://localhost:8080/"
        },
        "id": "_Xm52Hb6L1Ws",
        "outputId": "d95d6773-81ed-4610-e546-a7a54883782c"
      },
      "execution_count": 6,
      "outputs": [
        {
          "output_type": "stream",
          "name": "stdout",
          "text": [
            "اگر گیا تو کیا ہے\n",
            "نہ ہوا ہے کہ یوں بے کفن اسدِ\n",
            "بہ قدر یعنی ہم نے چاہا تھا کہ یوں\n",
            "کوئی کشمکش اندوہِ عشق سے ہم نے\n",
            "\n",
            "تا جگر کہ یوں بے کفن اسدِ خستہ\n",
            "ورنہ جو نہ ہوا ہے کہ یوں بے\n",
            "ہے کہ یوں بے کفن اسدِ خستہ جاں\n",
            "جذبۂ بے کفن اسدِ خستہ جاں کی\n",
            "\n",
            "نظارہ ہے کہ یوں بے کفن اسدِ خستہ\n",
            "اسد! غنچۂ گل سے ہم نے چاہا تھا کہ\n",
            "غلطی کی دوا پایا درد کی دوا\n",
            "روئیے زار زار زار زار زار زار\n",
            "\n"
          ]
        }
      ]
    },
    {
      "cell_type": "code",
      "source": [
        "def tri_prob(w_list,r, r1):\n",
        "  p = 0\n",
        "  p1 = 0\n",
        "  count = 0\n",
        "  w1_count = 0\n",
        "  w3_count = 0\n",
        "  w2_count = 0\n",
        "  w2_visited = []\n",
        "  w3_visited = []\n",
        "  max_prob = []\n",
        "  max_prob2 = []\n",
        "  word = ''\n",
        "  word2 = ''\n",
        "  w1 = r\n",
        "  for i in range(len(w_list)-1):    #getting the total occurances of starting word\n",
        "    if w1 == w_list[i]:\n",
        "      w1_count += 1\n",
        "  for i in range(len(w_list)-1):\n",
        "    w = w_list[i]\n",
        "    if w == w1:\n",
        "      w2 = r1                     #if starting word found in list than w2 = given next word\n",
        "      if w2 not in w2_visited:\n",
        "        w2_visited.append(w2)\n",
        "        for j in range(len(w_list)-1):\n",
        "          if w1 == w_list[j] and w2 == w_list[j+1]:     #getting most probable second word\n",
        "            p += 1\n",
        "          if p > p1:\n",
        "            word = w2\n",
        "            p1 = p\n",
        "          count = p/w1_count\n",
        "          max_prob.append(count)\n",
        "          p = 0\n",
        "\n",
        " #resetting all counters\n",
        "  p = 0\n",
        "  p1 = 0\n",
        "  count = 0\n",
        "  for i in range(len(w_list)-1):\n",
        "    w = w_list[i]\n",
        "    w2 = w_list[i+1]\n",
        "    if w == w1 and w2 == word:  #if first and second word found in list than store the third word\n",
        "      w3 = w_list[i+2]\n",
        "      for i in range(len(w_list)-1):   #get total occurance sof the third word in the whole corpus\n",
        "        if w3 == w_list[i]:\n",
        "          w3_count += 1\n",
        "      if w3 not in w3_visited:\n",
        "        w3_visited.append(w3)\n",
        "        for j in range(len(w_list)-1):\n",
        "          if w1 == w_list[j] and w2 == w_list[j+1] and w3 == w_list[j+2]: #all words found consectively\n",
        "            p += 1        #counting # of time w3 came after w1 + w2\n",
        "          if p > p1:\n",
        "            word2 = w3\n",
        "            p1 = p\n",
        "          count = p/w3_count      #calculating probability by count of w3 coming after w1+w2/ total count of w3\n",
        "          max_prob2.append(count)\n",
        "          p = 0\n",
        "  return word2"
      ],
      "metadata": {
        "id": "giQq8KlvL6Ad"
      },
      "execution_count": 7,
      "outputs": []
    },
    {
      "cell_type": "code",
      "source": [
        "import random\n",
        "res1 = ''\n",
        "res = ''\n",
        "next_word = ''\n",
        "verse = ''\n",
        "counter = 0\n",
        "done = []\n",
        "verse_count = random.randint(5,8)#randomly generating words per verse\n",
        "print_count = 0\n",
        "for s in range(3):\n",
        "  for v in range(4):\n",
        "    if print_count == 1 or print_count == 0:  #print_count 0 or 1 means start of a new verse\n",
        "      start = random.choice(starting_words)   #randomly generating first word\n",
        "      done.append(start)\n",
        "      while (start in done):\n",
        "        start = random.choice(starting_words)\n",
        "      res = start\n",
        "      verse = verse + start           #appending first word in verse\n",
        "      next_word = prob(w_list, start) #getting next probable word\n",
        "      res1 = next_word\n",
        "      verse = verse + ' ' + next_word\n",
        "      counter += 2\n",
        "      print_count = 2\n",
        "    if print_count > 1:   #if not start of a new verse\n",
        "      for i in range (verse_count):\n",
        "        next_word = tri_prob(w_list, res, res1) #send first two words to get third most probable word\n",
        "        res = res1\n",
        "        res1 = next_word\n",
        "        verse = verse + ' ' + res1 #add next most probable word in verse\n",
        "        counter += 1\n",
        "        print_count += 1\n",
        "        if counter == verse_count:  #end of verse\n",
        "          print(verse)          #print verse\n",
        "          verse = ''\n",
        "          #reset counters and ramdomly generate count of words per next verse\n",
        "          print_count = 1\n",
        "          verse_count = random.randint(7,10)\n",
        "          counter = 0\n",
        "  print()"
      ],
      "metadata": {
        "colab": {
          "base_uri": "https://localhost:8080/"
        },
        "id": "8vE9cKhfL-uJ",
        "outputId": "8d6c0359-6116-4c5e-a29d-c5bc1240568b"
      },
      "execution_count": 8,
      "outputs": [
        {
          "output_type": "stream",
          "name": "stdout",
          "text": [
            "جہاں میں جام جم نکلے ہوئی اس\n",
            " دور میں منسوب مجھ سے بادہ آشامی\n",
            " پھر آیا وہ زمانہ جو جہاں میں جام جم نکلے\n",
            " ہوئی اس دور میں منسوب مجھ سے بادہ آشامی پھر\n",
            "\n",
            " آیا وہ زمانہ جو جہاں میں جام جم نکلے ہوئی\n",
            " اس دور میں منسوب مجھ سے بادہ آشامی پھر\n",
            " آیا وہ زمانہ جو جہاں میں جام جم نکلے ہوئی\n",
            " اس دور میں منسوب مجھ سے بادہ آشامی پھر آیا\n",
            "\n",
            " وہ زمانہ جو جہاں میں جام جم نکلے\n",
            " ہوئی اس دور میں منسوب مجھ سے بادہ\n",
            " آشامی پھر آیا وہ زمانہ جو جہاں میں جام\n",
            " جم نکلے ہوئی اس دور میں منسوب مجھ سے بادہ\n",
            "\n"
          ]
        }
      ]
    },
    {
      "cell_type": "code",
      "source": [
        "def back_prob(w_list, s):\n",
        "  p = 0\n",
        "  p1 = 0\n",
        "  count = 0\n",
        "  w1_count = 0    #to store total occurances of the starting word\n",
        "  visited = []\n",
        "  max_prob = []   #to store probabilities of all possible combinations\n",
        "  word = ''\n",
        "  w1 = s\n",
        "\n",
        "  for i in range(len(w_list)-1):  #counting total occurances of starting word in the corpus\n",
        "    if w1 == w_list[i]:\n",
        "      w1_count += 1\n",
        "  for i in range(len(w_list)-1):\n",
        "    w = w_list[i]\n",
        "    if w == w1:                 #if starting word found than get next word\n",
        "      w2 = w_list[i-1]\n",
        "      if w2 not in visited:     #check in case the secound word comes again\n",
        "        visited.append(w2)      #Ifthe secound word has not been read before add it to the visited array\n",
        "        for j in range(len(w_list)-1):\n",
        "          if w1 == w_list[j] and w2 == w_list[j-1]:\n",
        "            p += 1              #counting # of times the second word comes after the first word in the corpus\n",
        "        if p > p1:              #storing the word with the highest count\n",
        "          word = w2\n",
        "          p1 = p\n",
        "        count = p/w1_count      #calculating the probability using count of w1 after w2/total count of w2\n",
        "        max_prob.append(count)  #adding in the array that stores probabilities of all second words that come after first word\n",
        "        p = 0\n",
        "  return word"
      ],
      "metadata": {
        "id": "qDTVF6JoMDkP"
      },
      "execution_count": 9,
      "outputs": []
    },
    {
      "cell_type": "code",
      "source": [
        "\n",
        "import random\n",
        "start = random.choice(w_list) #generating random word from the word list\n",
        "next_word = ''\n",
        "verse = ''\n",
        "verse = verse + start               #adding starting word to the verse\n",
        "next_word = back_prob(w_list, start)     #getting the second most probable word\n",
        "counter = 2\n",
        "verse = next_word + ' ' + verse\n",
        "verse_count = random.randint(5,8)  #generating random numer between 5-10 for number of words of a verse as first 2 words have already been generated\n",
        "for s in range(3):\n",
        "  for v in range(4):\n",
        "    for i in range (verse_count):\n",
        "      res = back_prob(w_list, next_word) #getting the next most probable word\n",
        "      verse = res + ' ' + verse     #adding it to the verse\n",
        "      next_word = res\n",
        "      counter += 1\n",
        "      if counter == verse_count:    #to check end of verse\n",
        "        print(verse)                #printing verse and resetting the counter\n",
        "        verse = ''\n",
        "        next_word = random.choice(w_list) #generating starting word for the next verse\n",
        "        verse = verse + next_word\n",
        "        verse_count = random.randint(7,9)          #generating random number for the # of words in a verse\n",
        "        counter = 1\n",
        "        break\n",
        "  print()"
      ],
      "metadata": {
        "colab": {
          "base_uri": "https://localhost:8080/"
        },
        "id": "-6Y83QdMMI0g",
        "outputId": "dbc4ecfd-3711-4f66-b82a-3646a4553f30"
      },
      "execution_count": 10,
      "outputs": [
        {
          "output_type": "stream",
          "name": "stdout",
          "text": [
            "کیوں نہ بڑھ جائیں گے کیا ہے کہ\n",
            "بڑھ جائیں گے کیا ہے یہ جان دی،\n",
            "گے کیا ہے تو ہی کیوں نہ ہوا\n",
            "جائیں گے کیا ہے ہم بے ستوں‘\n",
            "\n",
            "نہ بڑھ جائیں گے کیا ہے ہم جو\n",
            "کیوں نہ بڑھ جائیں گے کیا ہے ہم نے\n",
            "ہوں میں بھی نہیں ہوں میں بھی نہیں\n",
            "حق مغفرت کرے عجب آزاد مرد تھا واں خود\n",
            "\n",
            "تو ہی کیوں نہ بڑھ جائیں گے کیا ہے\n",
            "حال ہر ایک بات پر پیچ و\n",
            "بھی نہیں ہوں میں بھی نہیں ہوں اور جیتے\n",
            "کیوں نہ بڑھ جائیں گے کیا ہے\n",
            "\n"
          ]
        }
      ]
    },
    {
      "cell_type": "code",
      "source": [
        "import random\n",
        "start = random.choice(w_list) #selecting a random word from the word list\n",
        "next_word = ''\n",
        "verse = ''\n",
        "verse = verse + start               #adding starting word to the verse\n",
        "counter = 1\n",
        "next_word = start\n",
        "verse_count = random.randint(4,5)  #generating random numer between 5-10 for number of words of a verse as first 2 words have already been generated\n",
        "for s in range(3):\n",
        "  for v in range(4):\n",
        "    for i in range (verse_count):\n",
        "      res = prob(w_list, start) #getting the next most probable forward bigram word\n",
        "      verse = verse + ' ' + res     #adding it to the left of the verse\n",
        "      start = res\n",
        "      res1 = back_prob(w_list, next_word) #getting the next most probable backward bigram word\n",
        "      verse = res1 + ' ' + verse    #adding word to the right of verse\n",
        "      next_word = res1\n",
        "      counter += 1\n",
        "      if counter == verse_count:    #to check end of verse\n",
        "        print(verse)                #printing verse and resetting the counter\n",
        "        verse = ''\n",
        "        start = random.choice(w_list) #generating starting word for the next verse\n",
        "        verse = verse + start\n",
        "        verse_count = random.randint(4,5)          #generating random number for the # of words in a verse\n",
        "        counter = 1\n",
        "        break\n",
        "  print()"
      ],
      "metadata": {
        "colab": {
          "base_uri": "https://localhost:8080/"
        },
        "id": "EUyBjnjSMNiC",
        "outputId": "aae11160-3491-4fd8-84bc-49c369044ee9"
      },
      "execution_count": 11,
      "outputs": [
        {
          "output_type": "stream",
          "name": "stdout",
          "text": [
            "ہر موج سراب دشت میں بھی نہیں\n",
            "نہ پوچھ حال لکیریں ہاتھ میں بھی\n",
            "تو ہی کیوں تھا کہ یوں بے\n",
            "جائیں گے کیا ہے فصل گل سے ہم نے\n",
            "\n",
            "کیوں نہ بڑھ مجھے دینا پڑا حساب\n",
            "کیا ہے تو ہی کا نہ ہوا ہے کہ\n",
            "بڑھ جائیں گے ہے‘ غیر از حسینِ\n",
            "تو ہی کیوں نہ جفا سائل نے چاہا تھا\n",
            "\n",
            "جائیں گے کیا ہے باز کا نہ ہوا ہے\n",
            "کیوں نہ بڑھ پرور، کب تلک ناخن\n",
            "کیا ہے تو ہی نشاطِ تصور سے ہم نے\n",
            "نہ بڑھ جائیں گے ایک ہیں کہ یوں بے\n",
            "\n"
          ]
        }
      ]
    }
  ]
}