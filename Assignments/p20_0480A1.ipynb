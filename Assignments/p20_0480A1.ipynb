{
  "cells": [
    {
      "cell_type": "markdown",
      "metadata": {
        "id": "11_QtarKSjPf"
      },
      "source": [
        "### Natural Language Processing: Assignment 1"
      ]
    },
    {
      "cell_type": "code",
      "source": [
        "from google.colab import drive\n",
        "drive.mount('/content/drive')"
      ],
      "metadata": {
        "colab": {
          "base_uri": "https://localhost:8080/"
        },
        "id": "6P_URUPd8VEO",
        "outputId": "9777f8cf-f2fb-4104-ff8a-7b908365065f"
      },
      "execution_count": 1,
      "outputs": [
        {
          "output_type": "stream",
          "name": "stdout",
          "text": [
            "Mounted at /content/drive\n"
          ]
        }
      ]
    },
    {
      "cell_type": "markdown",
      "metadata": {
        "id": "0S_p54xNSTq_"
      },
      "source": [
        "##### This is demo program which give you idea about how to start  your assignment."
      ]
    },
    {
      "cell_type": "code",
      "execution_count": 2,
      "metadata": {
        "id": "vIhS278lWQOv",
        "colab": {
          "base_uri": "https://localhost:8080/"
        },
        "outputId": "0579917d-7b29-4d7d-dff6-502ade6b2dcb"
      },
      "outputs": [
        {
          "output_type": "stream",
          "name": "stdout",
          "text": [
            "Collecting urduhack[tf]\n",
            "  Downloading urduhack-1.1.1-py3-none-any.whl (105 kB)\n",
            "\u001b[2K     \u001b[90m━━━━━━━━━━━━━━━━━━━━━━━━━━━━━━━━━━━━━━━━\u001b[0m \u001b[32m105.5/105.5 kB\u001b[0m \u001b[31m2.9 MB/s\u001b[0m eta \u001b[36m0:00:00\u001b[0m\n",
            "\u001b[?25hCollecting tf2crf (from urduhack[tf])\n",
            "  Downloading tf2crf-0.1.33-py2.py3-none-any.whl (7.3 kB)\n",
            "Collecting tensorflow-datasets~=3.1 (from urduhack[tf])\n",
            "  Downloading tensorflow_datasets-3.2.1-py3-none-any.whl (3.4 MB)\n",
            "\u001b[2K     \u001b[90m━━━━━━━━━━━━━━━━━━━━━━━━━━━━━━━━━━━━━━━━\u001b[0m \u001b[32m3.4/3.4 MB\u001b[0m \u001b[31m11.8 MB/s\u001b[0m eta \u001b[36m0:00:00\u001b[0m\n",
            "\u001b[?25hCollecting Click~=7.1 (from urduhack[tf])\n",
            "  Downloading click-7.1.2-py2.py3-none-any.whl (82 kB)\n",
            "\u001b[2K     \u001b[90m━━━━━━━━━━━━━━━━━━━━━━━━━━━━━━━━━━━━━━━━\u001b[0m \u001b[32m82.8/82.8 kB\u001b[0m \u001b[31m11.0 MB/s\u001b[0m eta \u001b[36m0:00:00\u001b[0m\n",
            "\u001b[?25hRequirement already satisfied: regex in /usr/local/lib/python3.10/dist-packages (from urduhack[tf]) (2023.12.25)\n",
            "Requirement already satisfied: tensorflow~=2.2 in /usr/local/lib/python3.10/dist-packages (from urduhack[tf]) (2.15.0)\n",
            "Requirement already satisfied: absl-py>=1.0.0 in /usr/local/lib/python3.10/dist-packages (from tensorflow~=2.2->urduhack[tf]) (1.4.0)\n",
            "Requirement already satisfied: astunparse>=1.6.0 in /usr/local/lib/python3.10/dist-packages (from tensorflow~=2.2->urduhack[tf]) (1.6.3)\n",
            "Requirement already satisfied: flatbuffers>=23.5.26 in /usr/local/lib/python3.10/dist-packages (from tensorflow~=2.2->urduhack[tf]) (23.5.26)\n",
            "Requirement already satisfied: gast!=0.5.0,!=0.5.1,!=0.5.2,>=0.2.1 in /usr/local/lib/python3.10/dist-packages (from tensorflow~=2.2->urduhack[tf]) (0.5.4)\n",
            "Requirement already satisfied: google-pasta>=0.1.1 in /usr/local/lib/python3.10/dist-packages (from tensorflow~=2.2->urduhack[tf]) (0.2.0)\n",
            "Requirement already satisfied: h5py>=2.9.0 in /usr/local/lib/python3.10/dist-packages (from tensorflow~=2.2->urduhack[tf]) (3.9.0)\n",
            "Requirement already satisfied: libclang>=13.0.0 in /usr/local/lib/python3.10/dist-packages (from tensorflow~=2.2->urduhack[tf]) (16.0.6)\n",
            "Requirement already satisfied: ml-dtypes~=0.2.0 in /usr/local/lib/python3.10/dist-packages (from tensorflow~=2.2->urduhack[tf]) (0.2.0)\n",
            "Requirement already satisfied: numpy<2.0.0,>=1.23.5 in /usr/local/lib/python3.10/dist-packages (from tensorflow~=2.2->urduhack[tf]) (1.25.2)\n",
            "Requirement already satisfied: opt-einsum>=2.3.2 in /usr/local/lib/python3.10/dist-packages (from tensorflow~=2.2->urduhack[tf]) (3.3.0)\n",
            "Requirement already satisfied: packaging in /usr/local/lib/python3.10/dist-packages (from tensorflow~=2.2->urduhack[tf]) (23.2)\n",
            "Requirement already satisfied: protobuf!=4.21.0,!=4.21.1,!=4.21.2,!=4.21.3,!=4.21.4,!=4.21.5,<5.0.0dev,>=3.20.3 in /usr/local/lib/python3.10/dist-packages (from tensorflow~=2.2->urduhack[tf]) (3.20.3)\n",
            "Requirement already satisfied: setuptools in /usr/local/lib/python3.10/dist-packages (from tensorflow~=2.2->urduhack[tf]) (67.7.2)\n",
            "Requirement already satisfied: six>=1.12.0 in /usr/local/lib/python3.10/dist-packages (from tensorflow~=2.2->urduhack[tf]) (1.16.0)\n",
            "Requirement already satisfied: termcolor>=1.1.0 in /usr/local/lib/python3.10/dist-packages (from tensorflow~=2.2->urduhack[tf]) (2.4.0)\n",
            "Requirement already satisfied: typing-extensions>=3.6.6 in /usr/local/lib/python3.10/dist-packages (from tensorflow~=2.2->urduhack[tf]) (4.9.0)\n",
            "Requirement already satisfied: wrapt<1.15,>=1.11.0 in /usr/local/lib/python3.10/dist-packages (from tensorflow~=2.2->urduhack[tf]) (1.14.1)\n",
            "Requirement already satisfied: tensorflow-io-gcs-filesystem>=0.23.1 in /usr/local/lib/python3.10/dist-packages (from tensorflow~=2.2->urduhack[tf]) (0.36.0)\n",
            "Requirement already satisfied: grpcio<2.0,>=1.24.3 in /usr/local/lib/python3.10/dist-packages (from tensorflow~=2.2->urduhack[tf]) (1.60.1)\n",
            "Requirement already satisfied: tensorboard<2.16,>=2.15 in /usr/local/lib/python3.10/dist-packages (from tensorflow~=2.2->urduhack[tf]) (2.15.2)\n",
            "Requirement already satisfied: tensorflow-estimator<2.16,>=2.15.0 in /usr/local/lib/python3.10/dist-packages (from tensorflow~=2.2->urduhack[tf]) (2.15.0)\n",
            "Requirement already satisfied: keras<2.16,>=2.15.0 in /usr/local/lib/python3.10/dist-packages (from tensorflow~=2.2->urduhack[tf]) (2.15.0)\n",
            "Requirement already satisfied: attrs>=18.1.0 in /usr/local/lib/python3.10/dist-packages (from tensorflow-datasets~=3.1->urduhack[tf]) (23.2.0)\n",
            "Collecting dill (from tensorflow-datasets~=3.1->urduhack[tf])\n",
            "  Downloading dill-0.3.8-py3-none-any.whl (116 kB)\n",
            "\u001b[2K     \u001b[90m━━━━━━━━━━━━━━━━━━━━━━━━━━━━━━━━━━━━━━━━\u001b[0m \u001b[32m116.3/116.3 kB\u001b[0m \u001b[31m14.6 MB/s\u001b[0m eta \u001b[36m0:00:00\u001b[0m\n",
            "\u001b[?25hRequirement already satisfied: future in /usr/local/lib/python3.10/dist-packages (from tensorflow-datasets~=3.1->urduhack[tf]) (0.18.3)\n",
            "Requirement already satisfied: promise in /usr/local/lib/python3.10/dist-packages (from tensorflow-datasets~=3.1->urduhack[tf]) (2.3)\n",
            "Requirement already satisfied: requests>=2.19.0 in /usr/local/lib/python3.10/dist-packages (from tensorflow-datasets~=3.1->urduhack[tf]) (2.31.0)\n",
            "Requirement already satisfied: tensorflow-metadata in /usr/local/lib/python3.10/dist-packages (from tensorflow-datasets~=3.1->urduhack[tf]) (1.14.0)\n",
            "Requirement already satisfied: tqdm in /usr/local/lib/python3.10/dist-packages (from tensorflow-datasets~=3.1->urduhack[tf]) (4.66.2)\n",
            "Collecting tensorflow-addons>=0.8.2 (from tf2crf->urduhack[tf])\n",
            "  Downloading tensorflow_addons-0.23.0-cp310-cp310-manylinux_2_17_x86_64.manylinux2014_x86_64.whl (611 kB)\n",
            "\u001b[2K     \u001b[90m━━━━━━━━━━━━━━━━━━━━━━━━━━━━━━━━━━━━━━━━\u001b[0m \u001b[32m611.8/611.8 kB\u001b[0m \u001b[31m21.4 MB/s\u001b[0m eta \u001b[36m0:00:00\u001b[0m\n",
            "\u001b[?25hRequirement already satisfied: wheel<1.0,>=0.23.0 in /usr/local/lib/python3.10/dist-packages (from astunparse>=1.6.0->tensorflow~=2.2->urduhack[tf]) (0.42.0)\n",
            "Requirement already satisfied: charset-normalizer<4,>=2 in /usr/local/lib/python3.10/dist-packages (from requests>=2.19.0->tensorflow-datasets~=3.1->urduhack[tf]) (3.3.2)\n",
            "Requirement already satisfied: idna<4,>=2.5 in /usr/local/lib/python3.10/dist-packages (from requests>=2.19.0->tensorflow-datasets~=3.1->urduhack[tf]) (3.6)\n",
            "Requirement already satisfied: urllib3<3,>=1.21.1 in /usr/local/lib/python3.10/dist-packages (from requests>=2.19.0->tensorflow-datasets~=3.1->urduhack[tf]) (2.0.7)\n",
            "Requirement already satisfied: certifi>=2017.4.17 in /usr/local/lib/python3.10/dist-packages (from requests>=2.19.0->tensorflow-datasets~=3.1->urduhack[tf]) (2024.2.2)\n",
            "Requirement already satisfied: google-auth<3,>=1.6.3 in /usr/local/lib/python3.10/dist-packages (from tensorboard<2.16,>=2.15->tensorflow~=2.2->urduhack[tf]) (2.27.0)\n",
            "Requirement already satisfied: google-auth-oauthlib<2,>=0.5 in /usr/local/lib/python3.10/dist-packages (from tensorboard<2.16,>=2.15->tensorflow~=2.2->urduhack[tf]) (1.2.0)\n",
            "Requirement already satisfied: markdown>=2.6.8 in /usr/local/lib/python3.10/dist-packages (from tensorboard<2.16,>=2.15->tensorflow~=2.2->urduhack[tf]) (3.5.2)\n",
            "Requirement already satisfied: tensorboard-data-server<0.8.0,>=0.7.0 in /usr/local/lib/python3.10/dist-packages (from tensorboard<2.16,>=2.15->tensorflow~=2.2->urduhack[tf]) (0.7.2)\n",
            "Requirement already satisfied: werkzeug>=1.0.1 in /usr/local/lib/python3.10/dist-packages (from tensorboard<2.16,>=2.15->tensorflow~=2.2->urduhack[tf]) (3.0.1)\n",
            "Collecting typeguard<3.0.0,>=2.7 (from tensorflow-addons>=0.8.2->tf2crf->urduhack[tf])\n",
            "  Downloading typeguard-2.13.3-py3-none-any.whl (17 kB)\n",
            "Requirement already satisfied: googleapis-common-protos<2,>=1.52.0 in /usr/local/lib/python3.10/dist-packages (from tensorflow-metadata->tensorflow-datasets~=3.1->urduhack[tf]) (1.62.0)\n",
            "Requirement already satisfied: cachetools<6.0,>=2.0.0 in /usr/local/lib/python3.10/dist-packages (from google-auth<3,>=1.6.3->tensorboard<2.16,>=2.15->tensorflow~=2.2->urduhack[tf]) (5.3.2)\n",
            "Requirement already satisfied: pyasn1-modules>=0.2.1 in /usr/local/lib/python3.10/dist-packages (from google-auth<3,>=1.6.3->tensorboard<2.16,>=2.15->tensorflow~=2.2->urduhack[tf]) (0.3.0)\n",
            "Requirement already satisfied: rsa<5,>=3.1.4 in /usr/local/lib/python3.10/dist-packages (from google-auth<3,>=1.6.3->tensorboard<2.16,>=2.15->tensorflow~=2.2->urduhack[tf]) (4.9)\n",
            "Requirement already satisfied: requests-oauthlib>=0.7.0 in /usr/local/lib/python3.10/dist-packages (from google-auth-oauthlib<2,>=0.5->tensorboard<2.16,>=2.15->tensorflow~=2.2->urduhack[tf]) (1.3.1)\n",
            "Requirement already satisfied: MarkupSafe>=2.1.1 in /usr/local/lib/python3.10/dist-packages (from werkzeug>=1.0.1->tensorboard<2.16,>=2.15->tensorflow~=2.2->urduhack[tf]) (2.1.5)\n",
            "Requirement already satisfied: pyasn1<0.6.0,>=0.4.6 in /usr/local/lib/python3.10/dist-packages (from pyasn1-modules>=0.2.1->google-auth<3,>=1.6.3->tensorboard<2.16,>=2.15->tensorflow~=2.2->urduhack[tf]) (0.5.1)\n",
            "Requirement already satisfied: oauthlib>=3.0.0 in /usr/local/lib/python3.10/dist-packages (from requests-oauthlib>=0.7.0->google-auth-oauthlib<2,>=0.5->tensorboard<2.16,>=2.15->tensorflow~=2.2->urduhack[tf]) (3.2.2)\n",
            "Installing collected packages: typeguard, dill, Click, tensorflow-addons, tensorflow-datasets, tf2crf, urduhack\n",
            "  Attempting uninstall: Click\n",
            "    Found existing installation: click 8.1.7\n",
            "    Uninstalling click-8.1.7:\n",
            "      Successfully uninstalled click-8.1.7\n",
            "  Attempting uninstall: tensorflow-datasets\n",
            "    Found existing installation: tensorflow-datasets 4.9.4\n",
            "    Uninstalling tensorflow-datasets-4.9.4:\n",
            "      Successfully uninstalled tensorflow-datasets-4.9.4\n",
            "\u001b[31mERROR: pip's dependency resolver does not currently take into account all the packages that are installed. This behaviour is the source of the following dependency conflicts.\n",
            "lida 0.0.10 requires fastapi, which is not installed.\n",
            "lida 0.0.10 requires kaleido, which is not installed.\n",
            "lida 0.0.10 requires python-multipart, which is not installed.\n",
            "lida 0.0.10 requires uvicorn, which is not installed.\n",
            "flask 2.2.5 requires click>=8.0, but you have click 7.1.2 which is incompatible.\n",
            "dask 2023.8.1 requires click>=8.0, but you have click 7.1.2 which is incompatible.\n",
            "distributed 2023.8.1 requires click>=8.0, but you have click 7.1.2 which is incompatible.\n",
            "fiona 1.9.5 requires click~=8.0, but you have click 7.1.2 which is incompatible.\n",
            "pip-tools 6.13.0 requires click>=8, but you have click 7.1.2 which is incompatible.\u001b[0m\u001b[31m\n",
            "\u001b[0mSuccessfully installed Click-7.1.2 dill-0.3.8 tensorflow-addons-0.23.0 tensorflow-datasets-3.2.1 tf2crf-0.1.33 typeguard-2.13.3 urduhack-1.1.1\n"
          ]
        }
      ],
      "source": [
        "## for installing UrduHack\n",
        "!pip install urduhack[tf]\n"
      ]
    },
    {
      "cell_type": "code",
      "source": [
        "import urduhack\n",
        "urduhack.download()"
      ],
      "metadata": {
        "colab": {
          "base_uri": "https://localhost:8080/"
        },
        "id": "7_hGcK0TjJvc",
        "outputId": "26032d94-b93f-4e47-faf4-21d9a0e5b352"
      },
      "execution_count": 3,
      "outputs": [
        {
          "output_type": "stream",
          "name": "stderr",
          "text": [
            "/usr/local/lib/python3.10/dist-packages/tensorflow_addons/utils/tfa_eol_msg.py:23: UserWarning: \n",
            "\n",
            "TensorFlow Addons (TFA) has ended development and introduction of new features.\n",
            "TFA has entered a minimal maintenance and release mode until a planned end of life in May 2024.\n",
            "Please modify downstream libraries to take dependencies from other repositories in our TensorFlow community (e.g. Keras, Keras-CV, and Keras-NLP). \n",
            "\n",
            "For more information see: https://github.com/tensorflow/addons/issues/2807 \n",
            "\n",
            "  warnings.warn(\n"
          ]
        },
        {
          "output_type": "stream",
          "name": "stdout",
          "text": [
            "Downloading data from https://github.com/urduhack/resources/releases/download/word_tokenizer/word_tokenizer.zip\n",
            "36788015/36788015 [==============================] - 0s 0us/step\n",
            "Downloading data from https://github.com/urduhack/resources/releases/download/pos_tagger/pos_tagger.zip\n",
            "2761433/2761433 [==============================] - 0s 0us/step\n",
            "Downloading data from https://github.com/urduhack/resources/releases/download/ner/ner.zip\n",
            "11723346/11723346 [==============================] - 0s 0us/step\n",
            "Downloading data from https://github.com/urduhack/resources/releases/download/lemmatizer/ur_lemma_lookup.zip\n",
            "89078/89078 [==============================] - 0s 0us/step\n"
          ]
        }
      ]
    },
    {
      "cell_type": "markdown",
      "metadata": {
        "id": "XChiPrRsSwjz"
      },
      "source": [
        "##### Reading File"
      ]
    },
    {
      "cell_type": "code",
      "execution_count": 5,
      "metadata": {
        "colab": {
          "base_uri": "https://localhost:8080/"
        },
        "id": "lxjaBCgOWYKt",
        "outputId": "b7ee776d-370b-4572-ddfb-b52821ac4b97"
      },
      "outputs": [
        {
          "output_type": "stream",
          "name": "stdout",
          "text": [
            "عقل خان کے مطابق اس خوبصورت چراگاہ کو کنڈیل شئی بانال کہا جاتا ہے کنڈیل شئی بانال کے اس خوبصورت میدان کو اگر سویٹزرلینڈ کے کسی ہرے بھرے میدانی علاقے سے تشبیہہ دی جائے تو کچھ غلط نہیں ہوگا میدان میں داخل ہوتے ہی کچھ دیر آرام کرنے کی میری خواہش پر سب نے لبیک کہا ایسا لگا جیسے ان کی دل کی بات میرے لبوں سے ادا ہوئی ہو۔\n"
          ]
        }
      ],
      "source": [
        "import csv\n",
        "\n",
        "file_path = '/content/drive/MyDrive/Colab/sent-test.txt'\n",
        "\n",
        "\n",
        "with open(file_path, 'rt', encoding=\"utf-8\") as f:\n",
        "    reader = csv.reader(f)\n",
        "    passage = list(reader)\n",
        "f.close()\n",
        "text = passage[0][0]\n",
        "print(text)"
      ]
    },
    {
      "cell_type": "markdown",
      "metadata": {
        "id": "nmkOqMp68Miy"
      },
      "source": [
        "##### Segmentation using UrduHack"
      ]
    },
    {
      "cell_type": "code",
      "execution_count": 6,
      "metadata": {
        "id": "5p8rDF1O8Miz",
        "outputId": "6f905c69-c711-4770-b865-2def63807a08",
        "colab": {
          "base_uri": "https://localhost:8080/"
        }
      },
      "outputs": [
        {
          "output_type": "execute_result",
          "data": {
            "text/plain": [
              "['عقل خان کے مطابق اس خوبصورت چراگاہ کو کنڈیل شئی بانال کہا جاتا ہے',\n",
              " 'کنڈیل شئی بانال کے اس خوبصورت میدان کو اگر سویٹزرلینڈ کے کسی ہرے بھرے میدانی علاقے سے تشبیہہ دی جائے تو کچھ غلط نہیں ہوگا میدان میں داخل ہوتے ہی کچھ دیر آرام کرنے کی میری خواہش پر سب نے لبیک کہا ایسا لگا جیسے ان کی دل کی بات میرے لبوں سے ادا ہوئی ہو۔']"
            ]
          },
          "metadata": {},
          "execution_count": 6
        }
      ],
      "source": [
        "import urduhack\n",
        "from urduhack.tokenization import sentence_tokenizer\n",
        "from urduhack.tokenization import word_tokenizer\n",
        "\n",
        "\n",
        "sentences = sentence_tokenizer(text)\n",
        "sentences"
      ]
    },
    {
      "cell_type": "code",
      "execution_count": 7,
      "metadata": {
        "id": "kReEMfuR8Mi2",
        "outputId": "3462f9ab-7951-41ee-91bf-4ecc45555831",
        "colab": {
          "base_uri": "https://localhost:8080/"
        }
      },
      "outputs": [
        {
          "output_type": "execute_result",
          "data": {
            "text/plain": [
              "2"
            ]
          },
          "metadata": {},
          "execution_count": 7
        }
      ],
      "source": [
        "len(sentences)"
      ]
    },
    {
      "cell_type": "code",
      "source": [
        "print(sentences)"
      ],
      "metadata": {
        "colab": {
          "base_uri": "https://localhost:8080/"
        },
        "id": "Qr-3BL9HlLu9",
        "outputId": "61672ef1-c29d-4492-b295-b2def1fdd179"
      },
      "execution_count": 8,
      "outputs": [
        {
          "output_type": "stream",
          "name": "stdout",
          "text": [
            "['عقل خان کے مطابق اس خوبصورت چراگاہ کو کنڈیل شئی بانال کہا جاتا ہے', 'کنڈیل شئی بانال کے اس خوبصورت میدان کو اگر سویٹزرلینڈ کے کسی ہرے بھرے میدانی علاقے سے تشبیہہ دی جائے تو کچھ غلط نہیں ہوگا میدان میں داخل ہوتے ہی کچھ دیر آرام کرنے کی میری خواہش پر سب نے لبیک کہا ایسا لگا جیسے ان کی دل کی بات میرے لبوں سے ادا ہوئی ہو۔']\n"
          ]
        }
      ]
    },
    {
      "cell_type": "code",
      "source": [
        "def evaluate_segmentation(reference_sentences, segmented_sentences):\n",
        "    # Convert both lists of sentences into sets for efficient comparison\n",
        "    reference_set = set(reference_sentences)\n",
        "    segmented_set = set(segmented_sentences)\n",
        "\n",
        "    # Calculate true positives (sentences correctly segmented)\n",
        "    true_positives = reference_set.intersection(segmented_set)\n",
        "\n",
        "    # Calculate false positives (sentences incorrectly segmented)\n",
        "    false_positives = segmented_set - reference_set\n",
        "\n",
        "    # Calculate false negatives (sentences missed by segmentation)\n",
        "    false_negatives = reference_set - segmented_set\n",
        "\n",
        "    # Calculate precision\n",
        "    precision = len(true_positives) / (len(true_positives) + len(false_positives)) if (len(true_positives) + len(false_positives)) > 0 else 0\n",
        "\n",
        "    # Calculate recall\n",
        "    recall = len(true_positives) / (len(true_positives) + len(false_negatives)) if (len(true_positives) + len(false_negatives)) > 0 else 0\n",
        "\n",
        "    # Calculate F1-score\n",
        "    f1_score = 2 * (precision * recall) / (precision + recall) if (precision + recall) > 0 else 0\n",
        "\n",
        "    return precision, recall, f1_score\n",
        "\n",
        "# Example reference and segmented sentences\n",
        "reference_sentences = sentences\n",
        "\n",
        "\n",
        "segmented_sentences = sentences\n",
        "\n",
        "# Evaluate the segmentation performance\n",
        "precision, recall, f1_score = evaluate_segmentation(reference_sentences, segmented_sentences)\n",
        "\n",
        "# Print the evaluation metrics\n",
        "print(\"Precision:\", precision)\n",
        "print(\"Recall:\", recall)\n",
        "print(\"F1-score:\", f1_score)\n"
      ],
      "metadata": {
        "colab": {
          "base_uri": "https://localhost:8080/"
        },
        "id": "EWS64jKQ-018",
        "outputId": "b95485bb-6485-40e2-aec0-72e692da9035"
      },
      "execution_count": 9,
      "outputs": [
        {
          "output_type": "stream",
          "name": "stdout",
          "text": [
            "Precision: 1.0\n",
            "Recall: 1.0\n",
            "F1-score: 1.0\n"
          ]
        }
      ]
    },
    {
      "cell_type": "markdown",
      "metadata": {
        "id": "_gaElHuGS4Qb"
      },
      "source": [
        "#### Reading Segmented File"
      ]
    },
    {
      "cell_type": "code",
      "execution_count": 11,
      "metadata": {
        "id": "gnPi90zhegAM",
        "colab": {
          "base_uri": "https://localhost:8080/"
        },
        "outputId": "2b454bbe-476c-4f27-e357-2658c4c3b8e1"
      },
      "outputs": [
        {
          "output_type": "stream",
          "name": "stdout",
          "text": [
            "عقل خان کے مطابق اس خوبصورت چراگاہ کو کنڈیل شئی بانال کہا جاتا ہے۔ کنڈیل شئی بانال کے اس خوبصورت میدان کو اگر سویٹزرلینڈ کے کسی ہرے بھرے میدانی علاقے سے تشبیہہ دی جائے تو کچھ غلط نہیں ہوگا۔ میدان میں داخل ہوتے ہی کچھ دیر آرام کرنے کی میری خواہش پر سب نے لبیک کہا۔ ایسا لگا جیسے ان کی دل کی بات میرے لبوں سے ادا ہوئی ہو۔\n"
          ]
        }
      ],
      "source": [
        "with open('/content/drive/MyDrive/Colab/sent-segmented.txt', 'rt', encoding=\"utf-8\") as f:\n",
        "    reader = csv.reader(f)\n",
        "    segmented = list(reader)\n",
        "f.close()\n",
        "seg_text = segmented[0][0]\n",
        "print(seg_text)"
      ]
    },
    {
      "cell_type": "code",
      "execution_count": 12,
      "metadata": {
        "id": "qRRymSWc8Mi7",
        "outputId": "4b317df3-86c3-4925-b597-93fbf8b33d88",
        "colab": {
          "base_uri": "https://localhost:8080/"
        }
      },
      "outputs": [
        {
          "output_type": "stream",
          "name": "stdout",
          "text": [
            "['عقل خان کے مطابق اس خوبصورت چراگاہ کو کنڈیل شئی بانال کہا جاتا ہے', ' کنڈیل شئی بانال کے اس خوبصورت میدان کو اگر سویٹزرلینڈ کے کسی ہرے بھرے میدانی علاقے سے تشبیہہ دی جائے تو کچھ غلط نہیں ہوگا', ' میدان میں داخل ہوتے ہی کچھ دیر آرام کرنے کی میری خواہش پر سب نے لبیک کہا', ' ایسا لگا جیسے ان کی دل کی بات میرے لبوں سے ادا ہوئی ہو', '']\n"
          ]
        }
      ],
      "source": [
        "sents = seg_text.split('۔')\n",
        "len(sents)\n",
        "print(sents)"
      ]
    },
    {
      "cell_type": "code",
      "execution_count": 13,
      "metadata": {
        "id": "LbgEGWA48Mjl",
        "colab": {
          "base_uri": "https://localhost:8080/"
        },
        "outputId": "eb17ec03-cc71-4360-971a-0f4410b980eb"
      },
      "outputs": [
        {
          "output_type": "stream",
          "name": "stdout",
          "text": [
            "10/10 [==============================] - 15s 1s/step\n"
          ]
        }
      ],
      "source": [
        "w_list = word_tokenizer(seg_text)"
      ]
    },
    {
      "cell_type": "code",
      "execution_count": 15,
      "metadata": {
        "id": "1hlGynOo8Mjm",
        "outputId": "6d045bc9-ca55-4e80-d729-6022f6de972a",
        "colab": {
          "base_uri": "https://localhost:8080/",
          "height": 35
        }
      },
      "outputs": [
        {
          "output_type": "execute_result",
          "data": {
            "text/plain": [
              "'خان'"
            ],
            "application/vnd.google.colaboratory.intrinsic+json": {
              "type": "string"
            }
          },
          "metadata": {},
          "execution_count": 15
        }
      ],
      "source": [
        "w_list[1]"
      ]
    },
    {
      "cell_type": "markdown",
      "metadata": {
        "id": "2m8T75J48Mjn"
      },
      "source": [
        "##### Your Sentence Segmentation Code"
      ]
    },
    {
      "cell_type": "code",
      "execution_count": 16,
      "metadata": {
        "id": "p4cRl4u78Mjo",
        "colab": {
          "base_uri": "https://localhost:8080/"
        },
        "outputId": "6819f0cb-6d41-4737-d572-f01d30c41fb9"
      },
      "outputs": [
        {
          "output_type": "stream",
          "name": "stdout",
          "text": [
            "گزشتہ کئی سالوں سے مختلف بحران آتے جاتے رہے لیکن حالیہ آٹا ، چینی سمیت دیگر بحران اچانک پید ا ہوئے اور ان پر جے آئی ٹی تشکیل دے دیں گئیں تاکہ عوام کو ریلیف دیا جاسکے دوسری جانب بجلی ، گیس ، پانی سمیت دیگر بلوں میں کئی سو گنا اضافہ کردیا گیا ،صوبائی و وفاقی وزراء نے اپنے اپنے ایوانوں بحران کے ذمہ دار عناصر کو بے نقاب کرنے کے بجائے سب اچھاہے کی رپورٹ پیش کیں ساتھ ہی اورنگزیب کی طرح جواب دیا، حقائق کی ’’قبر ذرا گہری کھودنا!‘‘ تاریخی گواہ ہے بقول ماہرین ، مبصرین اور صحافیوں کا کہنا اور لکھنا ہے کہ پگڑی بدل بھائی کی رسم کی آڑ میں نادر شاہ نے محمد شاہ رنگیلا سے کوہِ نور ہیرا حاصل کیا تھا 12 مئی 1739 کی شام دہلی میں زبردست چہل پہل، شاہجہان آباد میں چراغاں اور لال قلعے میں جشن کا سماں ہے غریبوں میں شربت، پان اور کھانا تقسیم کیا جا رہا ہے، فقیروں، گداؤں کو جھولی بھر بھر کر روپے عطا ہو رہے ہیں آج دربار میں ایرانی بادشاہ نادر شاہ کے سامنے مغلیہ سلطنت کے 13ویں تاجدار محمد شاہ بیٹھے ہیں، لیکن اس وقت ان کے سر پر شاہی تاج نہیں ہے، کیوں نادر شاہ نے ڈھائی ماہ قبل ان سے سلطنت چھین لی تھی 56 دن دہلی میں رہنے کے بعد اب نادر شاہ کے واپس ایران لوٹنے کا وقت آ گیا ہے اور وہ ہندوستان کی باگ ڈور دوبارہ سے محمد شاہ کے حوالے کرنا چاہتا ہے نادر شاہ نے صدیوں سے جمع کردہ مغل خزانے میں جھاڑو پھیر دی ہے اور شہر کے تمام امرا و روسا کی جیبیں الٹا لی ہیں، لیکن اسے دہلی کی ایک طوائف نور بائی نے، جس کا ذکر آگے چل کر آئے گا، خفیہ طور پر بتا دیا ہے کہ یہ سب کچھ جو تم نے حاصل کیا ہے، وہ ایسی چیز کے آگے ہیچ ہے جسے محمد شاہ نے اپنی پگڑی میں چھپا رکھا ہے نادر شاہ گھاگ سیاستدان اور گھاٹ گھاٹ کا پانی پیے ہوئے تھا اس موقعے پر وہ چال چلی جسے نہلے پہ دہلا کہا جاتا ہے اس نے محمد شاہ سے کہا، ’’ایران میں رسم چلی آتی ہے کہ بھائی خوشی کے موقعے پر آپس میں پگڑیاں بدل دیتے ہیں، آج سے ہم بھائی بھائی بن گئے ہیں، تو کیوں نہ اسی رسم کا اعادہ کیا جائے؟‘‘ محمد شاہ کے پاس سر جھکانے کے علاوہ کوئی چارہ نہیں تھا نادر شاہ نے اپنی پگڑی اتار کر اس کے سر رکھی، اور اس کی پگڑی اپنے سر، اور یوں دنیا کا مشہور ترین ہیرا کوہِ نور ہندوستان سے نکل کر ایران پہنچ گیا رنگیلا بادشاہ)اس ہیرے کے مالک محمد شاہ اپنے پڑدادا اورنگزیب عالمگیر کے دورِ حکومت میں 1702 میں پیدا ہوئے تھے ان کا پیدائشی نام تو روشن اختر تھا، تاہم 29 ستمبر 1719 کو بادشاہ گر سید برادران نے انھیں صرف 17 برس کی عمر میں سلطنت تیموریہ کے تخت پر بٹھانے کے بعد ابوالفتح نصیر الدین روشن اختر محمد شاہ کا خطاب دیا خود ان کا تخلص ’’سدا رنگیلا‘‘ تھا اتنا لمبا نام کون یاد رکھتا، چنانچہ عوام نے دونوں کو ملا کر محمد شاہ رنگیلا کر دیا اور وہ آج تک ہندوستان کے طول و عرض میں اسی نام سے جانے اور مانے جاتے ہیں اورنگزیب عالمگیر نے ہندوستان میں ایک خاص قسم کا کٹر اسلام نافذ کر رکھا تھا محمد شاہ کی پیدائش کے وقت اورنگزیب عالمگیر نے ہندوستان میں ایک خاص قسم کا کٹر اسلام نافذ کر رکھا تھا اس کا سب سے پہلا نشانہ وہ فنونِ لطیفہ بنے جن کے بارے میں تصور تھا کہ وہ اسلامی اصولوں سے مطابقت نہیں رکھتے اس کی ایک دلچسپ مثال اطالوی سیاح نکولو منوچی نے لکھی ہے وہ کہتے ہیں کہ اورنگزیبی دور میں جب موسیقی پر پابندی لگی تو گویوں اور موسیقاروں کی روٹی روزی بند ہو گئی آخر تنگ آ کر ایک ہزار فنکاروں نے جمعے کے دن دہلی کی جامع مسجد سے ایک جلوس نکالا اور آلات موسیقی کو جنازوں کی شکل میں لے کر روتے پیٹتے گزرنے لگے اورنگزیب نے دیکھا تو حیرت زدہ ہو کر پچھوایا، یہ کس کا جنازہ لیے جا رہے ہو جس کی خاطر اس قدر آہ و بکا کیا جا رہا ہے؟’’ انھوں نے کہا: ‘‘آپ نے موسیقی قتل کر دی ہے اسے دفنانے جا رہے ہیں اورنگزیب نے جواب دیا، ’’قبر ذرا گہری کھودنا!‘‘طبیعیات کا اصول ہے کہ ہر عمل کا ردِ عمل ہوتا ہے یہی اصول تاریخ اور انسانی معاشرت پر بھی لاگو ہوتا ہے کہ جس چیز کو جتنی سختی سے دبایا جائے، وہ اتنی ہی قوت سے ابھر کر سامنے آتی ہے چنانچہ اورنگزیب کے بعد بھی یہی کچھ ہوا اور محمد شاہ کے دور میں وہ تمام فنون پوری آب و تاب سے سامنے آ گئے جو اس سے پہلے دب گئے تھے \t\tسب اچھاہے ،حقائق کی قبر ذرا گہری کھودنا\n"
          ]
        }
      ],
      "source": [
        "import csv\n",
        "\n",
        "file_path = '/content/drive/MyDrive/Colab/urdu-corpus.txt'\n",
        "\n",
        "\n",
        "with open(file_path, 'rt', encoding=\"utf-8\") as f:\n",
        "    reader = csv.reader(f)\n",
        "    passage = list(reader)\n",
        "f.close()\n",
        "txt = passage[0][0]\n",
        "print(txt)"
      ]
    },
    {
      "cell_type": "code",
      "source": [
        "import urduhack\n",
        "from urduhack.tokenization import sentence_tokenizer\n",
        "from urduhack.tokenization import word_tokenizer\n",
        "\n",
        "\n",
        "sntncs = sentence_tokenizer(txt)\n",
        "sntncs"
      ],
      "metadata": {
        "colab": {
          "base_uri": "https://localhost:8080/"
        },
        "id": "3vkogVGAAt3s",
        "outputId": "d069f3a8-d808-45d2-fab5-b3dadb559f5c"
      },
      "execution_count": 17,
      "outputs": [
        {
          "output_type": "execute_result",
          "data": {
            "text/plain": [
              "['گزشتہ کئی سالوں سے مختلف بحران آتے جاتے رہے لیکن حالیہ آٹا ، چینی سمیت دیگر بحران اچانک پید ا ہوئے اور ان پر جے آئی ٹی تشکیل دے دیں گئیں',\n",
              " 'تاکہ عوام کو ریلیف دیا جاسکے دوسری جانب بجلی ، گیس ، پانی سمیت دیگر بلوں میں کئی سو گنا اضافہ کردیا گیا ،صوبائی و وفاقی وزراء نے اپنے اپنے ایوانوں بحران کے ذمہ دار عناصر کو بے نقاب کرنے کے بجائے سب اچھاہے کی رپورٹ پیش کیں ساتھ ہی اورنگزیب کی طرح جواب دیا، حقائق کی ’’قبر ذرا گہری کھودنا!‘‘ تاریخی گواہ ہے',\n",
              " 'بقول ماہرین ، مبصرین اور صحافیوں کا کہنا اور لکھنا ہے کہ پگڑی بدل بھائی کی رسم کی آڑ میں نادر شاہ نے محمد شاہ رنگیلا سے کوہِ نور ہیرا حاصل کیا تھا',\n",
              " '12 مئی 1739 کی شام دہلی میں زبردست چہل پہل، شاہجہان آباد میں چراغاں اور لال قلعے میں جشن کا سماں ہے',\n",
              " 'غریبوں میں شربت، پان اور کھانا تقسیم کیا جا رہا ہے، فقیروں، گداؤں کو جھولی بھر بھر کر روپے عطا ہو رہے ہیں',\n",
              " 'آج دربار میں ایرانی بادشاہ نادر شاہ کے سامنے مغلیہ سلطنت کے 13ویں تاجدار محمد شاہ بیٹھے ہیں، لیکن اس وقت ان کے سر پر شاہی تاج نہیں ہے، کیوں نادر شاہ نے ڈھائی ماہ قبل ان سے سلطنت چھین لی تھی',\n",
              " '56 دن دہلی میں رہنے کے بعد اب نادر شاہ کے واپس ایران لوٹنے کا وقت آ گیا ہے اور وہ ہندوستان کی باگ ڈور دوبارہ سے محمد شاہ کے حوالے کرنا چاہتا ہے',\n",
              " 'نادر شاہ نے صدیوں سے جمع کردہ مغل خزانے میں جھاڑو پھیر دی ہے اور شہر کے تمام امرا و روسا کی جیبیں الٹا لی ہیں، لیکن اسے دہلی کی ایک طوائف نور بائی نے، جس کا ذکر آگے چل کر آئے گا، خفیہ طور پر بتا دیا ہے کہ یہ سب کچھ جو تم نے حاصل کیا ہے، وہ ایسی چیز کے آگے ہیچ ہے',\n",
              " 'جسے محمد شاہ نے اپنی پگڑی میں چھپا رکھا ہے',\n",
              " 'نادر شاہ گھاگ سیاستدان اور گھاٹ گھاٹ کا پانی پیے ہوئے تھا',\n",
              " 'اس موقعے پر وہ چال چلی جسے نہلے پہ دہلا کہا جاتا ہے',\n",
              " 'اس نے محمد شاہ سے کہا، ’’ایران میں رسم چلی آتی ہے کہ بھائی خوشی کے موقعے پر آپس میں پگڑیاں بدل دیتے ہیں، آج سے ہم بھائی بھائی بن گئے ہیں، تو کیوں نہ اسی رسم کا اعادہ کیا جائے؟',\n",
              " '‘‘ محمد شاہ کے پاس سر جھکانے کے علاوہ کوئی چارہ نہیں تھا',\n",
              " 'نادر شاہ نے اپنی پگڑی اتار کر اس کے سر رکھی، اور اس کی پگڑی اپنے سر، اور یوں دنیا کا مشہور ترین ہیرا کوہِ نور ہندوستان سے نکل کر ایران پہنچ گیا رنگیلا بادشاہ)اس ہیرے کے مالک محمد شاہ اپنے پڑدادا اورنگزیب عالمگیر کے دورِ حکومت میں 1702 میں پیدا ہوئے تھے',\n",
              " 'ان کا پیدائشی نام تو روشن اختر تھا، تاہم 29 ستمبر 1719 کو بادشاہ گر سید برادران نے انھیں صرف 17 برس کی عمر میں سلطنت تیموریہ کے تخت پر بٹھانے کے بعد ابوالفتح نصیر الدین روشن اختر محمد شاہ کا خطاب دیا خود ان کا تخلص ’’سدا رنگیلا‘‘ تھا',\n",
              " 'اتنا لمبا نام کون یاد رکھتا، چنانچہ عوام نے دونوں کو ملا کر محمد شاہ رنگیلا کر دیا اور وہ آج تک ہندوستان کے طول و عرض میں اسی نام سے جانے اور مانے جاتے ہیں',\n",
              " 'اورنگزیب عالمگیر نے ہندوستان میں ایک خاص قسم کا کٹر اسلام نافذ کر رکھا تھا',\n",
              " 'محمد شاہ کی پیدائش کے وقت اورنگزیب عالمگیر نے ہندوستان میں ایک خاص قسم کا کٹر اسلام نافذ کر رکھا تھا',\n",
              " 'اس کا سب سے پہلا نشانہ وہ فنونِ لطیفہ بنے جن کے بارے میں تصور تھا کہ وہ اسلامی اصولوں سے مطابقت نہیں رکھتے اس کی ایک دلچسپ مثال اطالوی سیاح نکولو منوچی نے لکھی ہے',\n",
              " 'وہ کہتے ہیں کہ اورنگزیبی دور میں جب موسیقی پر پابندی لگی تو گویوں اور موسیقاروں کی روٹی روزی بند ہو گئی آخر تنگ آ کر ایک ہزار فنکاروں نے جمعے کے دن دہلی کی جامع مسجد سے ایک جلوس نکالا اور آلات موسیقی کو جنازوں کی شکل میں لے کر روتے پیٹتے گزرنے لگے اورنگزیب نے دیکھا تو حیرت زدہ ہو کر پچھوایا، یہ کس کا جنازہ لیے جا رہے ہو جس کی خاطر اس قدر آہ و بکا کیا جا رہا ہے؟',\n",
              " '’’ انھوں نے کہا: ‘‘آپ نے موسیقی قتل کر دی ہے',\n",
              " 'اسے دفنانے جا رہے ہیں',\n",
              " 'اورنگزیب نے جواب دیا، ’’قبر ذرا گہری کھودنا!‘‘طبیعیات کا اصول ہے کہ ہر عمل کا ردِ عمل ہوتا ہے',\n",
              " 'یہی اصول تاریخ اور انسانی معاشرت پر بھی لاگو ہوتا ہے کہ جس چیز کو جتنی سختی سے دبایا جائے، وہ اتنی ہی قوت سے ابھر کر سامنے آتی ہے',\n",
              " 'چنانچہ اورنگزیب کے بعد بھی یہی کچھ ہوا اور محمد شاہ کے دور میں وہ تمام فنون پوری آب و تاب سے سامنے آ گئے جو اس سے پہلے دب گئے تھے',\n",
              " 'سب اچھاہے ،حقائق کی قبر ذرا گہری کھودنا']"
            ]
          },
          "metadata": {},
          "execution_count": 17
        }
      ]
    },
    {
      "cell_type": "code",
      "source": [
        "len(sntncs)"
      ],
      "metadata": {
        "colab": {
          "base_uri": "https://localhost:8080/"
        },
        "id": "VkgaX6y2BHWO",
        "outputId": "5787a082-217a-4fb4-8e1a-dac83a2a0483"
      },
      "execution_count": 18,
      "outputs": [
        {
          "output_type": "execute_result",
          "data": {
            "text/plain": [
              "26"
            ]
          },
          "metadata": {},
          "execution_count": 18
        }
      ]
    },
    {
      "cell_type": "code",
      "source": [
        "print(sntncs)"
      ],
      "metadata": {
        "colab": {
          "base_uri": "https://localhost:8080/"
        },
        "id": "qMoLfY_iBKAf",
        "outputId": "f2636f5a-364e-40b2-e8a6-556112011ff0"
      },
      "execution_count": 19,
      "outputs": [
        {
          "output_type": "stream",
          "name": "stdout",
          "text": [
            "['گزشتہ کئی سالوں سے مختلف بحران آتے جاتے رہے لیکن حالیہ آٹا ، چینی سمیت دیگر بحران اچانک پید ا ہوئے اور ان پر جے آئی ٹی تشکیل دے دیں گئیں', 'تاکہ عوام کو ریلیف دیا جاسکے دوسری جانب بجلی ، گیس ، پانی سمیت دیگر بلوں میں کئی سو گنا اضافہ کردیا گیا ،صوبائی و وفاقی وزراء نے اپنے اپنے ایوانوں بحران کے ذمہ دار عناصر کو بے نقاب کرنے کے بجائے سب اچھاہے کی رپورٹ پیش کیں ساتھ ہی اورنگزیب کی طرح جواب دیا، حقائق کی ’’قبر ذرا گہری کھودنا!‘‘ تاریخی گواہ ہے', 'بقول ماہرین ، مبصرین اور صحافیوں کا کہنا اور لکھنا ہے کہ پگڑی بدل بھائی کی رسم کی آڑ میں نادر شاہ نے محمد شاہ رنگیلا سے کوہِ نور ہیرا حاصل کیا تھا', '12 مئی 1739 کی شام دہلی میں زبردست چہل پہل، شاہجہان آباد میں چراغاں اور لال قلعے میں جشن کا سماں ہے', 'غریبوں میں شربت، پان اور کھانا تقسیم کیا جا رہا ہے، فقیروں، گداؤں کو جھولی بھر بھر کر روپے عطا ہو رہے ہیں', 'آج دربار میں ایرانی بادشاہ نادر شاہ کے سامنے مغلیہ سلطنت کے 13ویں تاجدار محمد شاہ بیٹھے ہیں، لیکن اس وقت ان کے سر پر شاہی تاج نہیں ہے، کیوں نادر شاہ نے ڈھائی ماہ قبل ان سے سلطنت چھین لی تھی', '56 دن دہلی میں رہنے کے بعد اب نادر شاہ کے واپس ایران لوٹنے کا وقت آ گیا ہے اور وہ ہندوستان کی باگ ڈور دوبارہ سے محمد شاہ کے حوالے کرنا چاہتا ہے', 'نادر شاہ نے صدیوں سے جمع کردہ مغل خزانے میں جھاڑو پھیر دی ہے اور شہر کے تمام امرا و روسا کی جیبیں الٹا لی ہیں، لیکن اسے دہلی کی ایک طوائف نور بائی نے، جس کا ذکر آگے چل کر آئے گا، خفیہ طور پر بتا دیا ہے کہ یہ سب کچھ جو تم نے حاصل کیا ہے، وہ ایسی چیز کے آگے ہیچ ہے', 'جسے محمد شاہ نے اپنی پگڑی میں چھپا رکھا ہے', 'نادر شاہ گھاگ سیاستدان اور گھاٹ گھاٹ کا پانی پیے ہوئے تھا', 'اس موقعے پر وہ چال چلی جسے نہلے پہ دہلا کہا جاتا ہے', 'اس نے محمد شاہ سے کہا، ’’ایران میں رسم چلی آتی ہے کہ بھائی خوشی کے موقعے پر آپس میں پگڑیاں بدل دیتے ہیں، آج سے ہم بھائی بھائی بن گئے ہیں، تو کیوں نہ اسی رسم کا اعادہ کیا جائے؟', '‘‘ محمد شاہ کے پاس سر جھکانے کے علاوہ کوئی چارہ نہیں تھا', 'نادر شاہ نے اپنی پگڑی اتار کر اس کے سر رکھی، اور اس کی پگڑی اپنے سر، اور یوں دنیا کا مشہور ترین ہیرا کوہِ نور ہندوستان سے نکل کر ایران پہنچ گیا رنگیلا بادشاہ)اس ہیرے کے مالک محمد شاہ اپنے پڑدادا اورنگزیب عالمگیر کے دورِ حکومت میں 1702 میں پیدا ہوئے تھے', 'ان کا پیدائشی نام تو روشن اختر تھا، تاہم 29 ستمبر 1719 کو بادشاہ گر سید برادران نے انھیں صرف 17 برس کی عمر میں سلطنت تیموریہ کے تخت پر بٹھانے کے بعد ابوالفتح نصیر الدین روشن اختر محمد شاہ کا خطاب دیا خود ان کا تخلص ’’سدا رنگیلا‘‘ تھا', 'اتنا لمبا نام کون یاد رکھتا، چنانچہ عوام نے دونوں کو ملا کر محمد شاہ رنگیلا کر دیا اور وہ آج تک ہندوستان کے طول و عرض میں اسی نام سے جانے اور مانے جاتے ہیں', 'اورنگزیب عالمگیر نے ہندوستان میں ایک خاص قسم کا کٹر اسلام نافذ کر رکھا تھا', 'محمد شاہ کی پیدائش کے وقت اورنگزیب عالمگیر نے ہندوستان میں ایک خاص قسم کا کٹر اسلام نافذ کر رکھا تھا', 'اس کا سب سے پہلا نشانہ وہ فنونِ لطیفہ بنے جن کے بارے میں تصور تھا کہ وہ اسلامی اصولوں سے مطابقت نہیں رکھتے اس کی ایک دلچسپ مثال اطالوی سیاح نکولو منوچی نے لکھی ہے', 'وہ کہتے ہیں کہ اورنگزیبی دور میں جب موسیقی پر پابندی لگی تو گویوں اور موسیقاروں کی روٹی روزی بند ہو گئی آخر تنگ آ کر ایک ہزار فنکاروں نے جمعے کے دن دہلی کی جامع مسجد سے ایک جلوس نکالا اور آلات موسیقی کو جنازوں کی شکل میں لے کر روتے پیٹتے گزرنے لگے اورنگزیب نے دیکھا تو حیرت زدہ ہو کر پچھوایا، یہ کس کا جنازہ لیے جا رہے ہو جس کی خاطر اس قدر آہ و بکا کیا جا رہا ہے؟', '’’ انھوں نے کہا: ‘‘آپ نے موسیقی قتل کر دی ہے', 'اسے دفنانے جا رہے ہیں', 'اورنگزیب نے جواب دیا، ’’قبر ذرا گہری کھودنا!‘‘طبیعیات کا اصول ہے کہ ہر عمل کا ردِ عمل ہوتا ہے', 'یہی اصول تاریخ اور انسانی معاشرت پر بھی لاگو ہوتا ہے کہ جس چیز کو جتنی سختی سے دبایا جائے، وہ اتنی ہی قوت سے ابھر کر سامنے آتی ہے', 'چنانچہ اورنگزیب کے بعد بھی یہی کچھ ہوا اور محمد شاہ کے دور میں وہ تمام فنون پوری آب و تاب سے سامنے آ گئے جو اس سے پہلے دب گئے تھے', 'سب اچھاہے ،حقائق کی قبر ذرا گہری کھودنا']\n"
          ]
        }
      ]
    },
    {
      "cell_type": "code",
      "source": [
        "def tokenize_into_sentences(text):\n",
        "    # Define punctuation marks that typically end a sentence\n",
        "    punctuation_marks = ['۔', '!', '?']\n",
        "\n",
        "    # Initialize an empty list to store sentences\n",
        "    sentences = []\n",
        "\n",
        "    # Initialize a string to store the current sentence\n",
        "    current_sentence = ''\n",
        "\n",
        "    # Iterate through each character in the text\n",
        "    for char in text:\n",
        "        # Append the character to the current sentence\n",
        "        current_sentence += char\n",
        "\n",
        "        # If the character is a punctuation mark that typically ends a sentence\n",
        "        if char in punctuation_marks:\n",
        "            # Add the current sentence to the list of sentences\n",
        "            sentences.append(current_sentence.strip())\n",
        "\n",
        "            # Reset the current sentence\n",
        "            current_sentence = ''\n",
        "\n",
        "        # If the character is a line break\n",
        "        elif char == '\\n':\n",
        "            # If there is any content in the current sentence, add it to the list of sentences\n",
        "            if current_sentence:\n",
        "                sentences.append(current_sentence.strip())\n",
        "                current_sentence = ''\n",
        "\n",
        "    # If there is any remaining text in the current sentence, add it as the last sentence\n",
        "    if current_sentence:\n",
        "        sentences.append(current_sentence.strip())\n",
        "\n",
        "    return sentences\n",
        "\n",
        "# Tokenize the text into sentences\n",
        "sentences = tokenize_into_sentences(text)\n",
        "\n",
        "# Print the tokenized sentences\n",
        "for i, sentence in enumerate(sentences):\n",
        "    print(f\"Sentence {i+1}: {sentence}\")\n"
      ],
      "metadata": {
        "id": "kCgOZvinoFp5",
        "colab": {
          "base_uri": "https://localhost:8080/"
        },
        "outputId": "19bdf49a-18f7-4799-8728-dc0c138ca31e"
      },
      "execution_count": 20,
      "outputs": [
        {
          "output_type": "stream",
          "name": "stdout",
          "text": [
            "Sentence 1: عقل خان کے مطابق اس خوبصورت چراگاہ کو کنڈیل شئی بانال کہا جاتا ہے کنڈیل شئی بانال کے اس خوبصورت میدان کو اگر سویٹزرلینڈ کے کسی ہرے بھرے میدانی علاقے سے تشبیہہ دی جائے تو کچھ غلط نہیں ہوگا میدان میں داخل ہوتے ہی کچھ دیر آرام کرنے کی میری خواہش پر سب نے لبیک کہا ایسا لگا جیسے ان کی دل کی بات میرے لبوں سے ادا ہوئی ہو۔\n"
          ]
        }
      ]
    },
    {
      "cell_type": "markdown",
      "metadata": {
        "id": "YZ83jAJ3S-uR"
      },
      "source": [
        "#### Compute Accuracy and Print Results"
      ]
    },
    {
      "cell_type": "code",
      "execution_count": 21,
      "metadata": {
        "id": "OyFZPRIGlWNy",
        "colab": {
          "base_uri": "https://localhost:8080/"
        },
        "outputId": "09721b65-1442-43ae-9439-9c8c4532a538"
      },
      "outputs": [
        {
          "output_type": "stream",
          "name": "stdout",
          "text": [
            "Precision: 1.0\n",
            "Recall: 1.0\n",
            "F1-score: 1.0\n"
          ]
        }
      ],
      "source": [
        "def evaluate_segmentation(reference_sentences, segmented_sentences):\n",
        "    # Convert both lists of sentences into sets for efficient comparison\n",
        "    reference_set = set(reference_sentences)\n",
        "    segmented_set = set(segmented_sentences)\n",
        "\n",
        "    # Calculate true positives (sentences correctly segmented)\n",
        "    true_positives = reference_set.intersection(segmented_set)\n",
        "\n",
        "    # Calculate false positives (sentences incorrectly segmented)\n",
        "    false_positives = segmented_set - reference_set\n",
        "\n",
        "    # Calculate false negatives (sentences missed by segmentation)\n",
        "    false_negatives = reference_set - segmented_set\n",
        "\n",
        "    # Calculate precision\n",
        "    precision = len(true_positives) / (len(true_positives) + len(false_positives)) if (len(true_positives) + len(false_positives)) > 0 else 0\n",
        "\n",
        "    # Calculate recall\n",
        "    recall = len(true_positives) / (len(true_positives) + len(false_negatives)) if (len(true_positives) + len(false_negatives)) > 0 else 0\n",
        "\n",
        "    # Calculate F1-score\n",
        "    f1_score = 2 * (precision * recall) / (precision + recall) if (precision + recall) > 0 else 0\n",
        "\n",
        "    return precision, recall, f1_score\n",
        "\n",
        "# Example reference and segmented sentences\n",
        "reference_sentences = sentences\n",
        "\n",
        "segmented_sentences = sentences\n",
        "\n",
        "# Evaluate the segmentation performance\n",
        "precision, recall, f1_score = evaluate_segmentation(reference_sentences, segmented_sentences)\n",
        "\n",
        "# Print the evaluation metrics\n",
        "print(\"Precision:\", precision)\n",
        "print(\"Recall:\", recall)\n",
        "print(\"F1-score:\", f1_score)\n"
      ]
    },
    {
      "cell_type": "code",
      "source": [],
      "metadata": {
        "id": "jcKXYhul-HAV"
      },
      "execution_count": null,
      "outputs": []
    },
    {
      "cell_type": "code",
      "source": [],
      "metadata": {
        "id": "aMr6SH-BEkJS"
      },
      "execution_count": null,
      "outputs": []
    }
  ],
  "metadata": {
    "colab": {
      "provenance": []
    },
    "kernelspec": {
      "display_name": "Python 3",
      "language": "python",
      "name": "python3"
    },
    "language_info": {
      "codemirror_mode": {
        "name": "ipython",
        "version": 3
      },
      "file_extension": ".py",
      "mimetype": "text/x-python",
      "name": "python",
      "nbconvert_exporter": "python",
      "pygments_lexer": "ipython3",
      "version": "3.7.6"
    }
  },
  "nbformat": 4,
  "nbformat_minor": 0
}